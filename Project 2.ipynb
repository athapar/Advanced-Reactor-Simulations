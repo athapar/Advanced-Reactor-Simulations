{
 "cells": [
  {
   "cell_type": "markdown",
   "metadata": {},
   "source": [
    "# Simulation of an ethylene reactor in Python\n",
    "\n",
    "### This program solves a system of differential equations of a cracking reactor using the classic Runge Kutta method (RK4) in a vectorized form. The final plot shows the changes in concentrations of the components as the reaction progresses. "
   ]
  },
  {
   "cell_type": "code",
   "execution_count": 1,
   "metadata": {},
   "outputs": [],
   "source": [
    "# Import libraries\n",
    "import numpy as np\n",
    "import matplotlib.pyplot as plt"
   ]
  },
  {
   "cell_type": "code",
   "execution_count": 2,
   "metadata": {},
   "outputs": [],
   "source": [
    "# Initialize parameters\n",
    "pi = np.pi\n",
    "\n",
    "#Step size and total number of iterations\n",
    "s = 0.3\n",
    "if (85%s != 0):\n",
    "    z = np.arange(0,85,s)\n",
    "else:\n",
    "    z = np.arange(0,85+s,s)\n",
    "# Total length\n",
    "L = len(z)\n",
    "\n",
    "# Parameters\n",
    "D = 0.1;\n",
    "r = D/2\n",
    "v_0 = 162.9 \n",
    "rho_0 = 3.278\n",
    "mu = 2.4e-5\n",
    "Re = rho_0*v_0*D/mu \n",
    "R = 8.314\n",
    "T = 850+273\n",
    "\n",
    "#Initial Flux\n",
    "N_e0 = 99/(pi*(5/100)**2)\n",
    "N_y0 = 1/(pi*(5/100)**2)\n",
    "N_w0 = (66+2/3)/(pi*(5/100)**2)"
   ]
  },
  {
   "cell_type": "code",
   "execution_count": 3,
   "metadata": {},
   "outputs": [],
   "source": [
    "# Enter lambda functions to model species rate equations\n",
    "R_e = lambda e,y,h,m,b,w,p: -3*1.2*e*p/(R*T*(e+y+h+m+b+w)) - 28*(p*e/(R*T*(e+y+h+m+b+w)))**(1/2)\n",
    "R_y = lambda e,y,h,m,b,w,p: 28*(p*e/(R*T*(e+y+h+m+b+w)))**(1/2)\n",
    "R_h = lambda e,y,h,m,b,w,p: 28*(p*e/(R*T*(e+y+h+m+b+w)))**(1/2)\n",
    "R_m = lambda e,y,h,m,b,w,p: 2*1.2*e*p/(R*T*(e+y+h+m+b+w))\n",
    "R_b = lambda e,y,h,m,b,w,p: 1.2*e*p/(R*T*(e+y+h+m+b+w))\n",
    "# Pressure\n",
    "R_p = lambda e,y,h,m,b,w,p: -0.079*rho_0*v_0*R*T*(e+y+h+m+b+w)/(p*r*(Re)**0.25)"
   ]
  },
  {
   "cell_type": "code",
   "execution_count": 4,
   "metadata": {},
   "outputs": [],
   "source": [
    "# Create vectors to contain species flux values\n",
    "[E, Y, H, M, B, W, P] = [np.zeros(L), np.zeros(L), np.zeros(L), np.zeros(L), np.zeros(L), np.zeros(L), np.zeros(L)]\n",
    "[CE, CY, CM, CB] = [np.zeros(L), np.zeros(L), np.zeros(L), np.zeros(L)]\n",
    "\n",
    "# Initialialize variables for RK4 loop\n",
    "p = 12*101325\n",
    "e = N_e0\n",
    "y = N_y0\n",
    "h = 0\n",
    "m = 0\n",
    "b = 0\n",
    "w = N_w0 # Steam (inert) will also be present"
   ]
  },
  {
   "cell_type": "code",
   "execution_count": 5,
   "metadata": {},
   "outputs": [],
   "source": [
    "# RK4 Loop\n",
    "for i in range(0,L):\n",
    "    [E[i], Y[i], H[i], M[i], B[i], W[i], P[i]] = [e, y, h, m, b, w, p]\n",
    "\n",
    "    #Concentration vector update\n",
    "    denom = R*T*(e+y+h+m+b+w)\n",
    "    CE[i] = e*p/denom\n",
    "    CY[i] = y*p/denom\n",
    "    CM[i] = m*p/denom\n",
    "    CB[i] = b*p/denom\n",
    "\n",
    "\n",
    "    # K1 Values for RK4\n",
    "    k1e= s*R_e(e,y,h,m,b,w,p)\n",
    "    k1y= s*R_y(e,y,h,m,b,w,p)\n",
    "    k1h= s*R_h(e,y,h,m,b,w,p)\n",
    "    k1m= s*R_m(e,y,h,m,b,w,p)\n",
    "    k1b= s*R_b(e,y,h,m,b,w,p)\n",
    "    k1w= 0\n",
    "    k1p= s*R_p(e,y,h,m,b,w,p)\n",
    "\n",
    "\n",
    "    # K2 values for RK4\n",
    "    k2e= s*R_e(e+0.5*k1e, y+0.5*k1y, h+0.5*k1h, m+0.5*k1m, b+0.5*k1b, w+0.5*k1w, p+0.5*k1p)\n",
    "    k2y= s*R_y(e+0.5*k1e, y+0.5*k1y, h+0.5*k1h, m+0.5*k1m, b+0.5*k1b, w+0.5*k1w, p+0.5*k1p)\n",
    "    k2h= s*R_h(e+0.5*k1e, y+0.5*k1y, h+0.5*k1h, m+0.5*k1m, b+0.5*k1b, w+0.5*k1w, p+0.5*k1p)\n",
    "    k2m= s*R_m(e+0.5*k1e, y+0.5*k1y, h+0.5*k1h, m+0.5*k1m, b+0.5*k1b, w+0.5*k1w, p+0.5*k1p)\n",
    "    k2b= s*R_b(e+0.5*k1e, y+0.5*k1y, h+0.5*k1h, m+0.5*k1m, b+0.5*k1b, w+0.5*k1w, p+0.5*k1p)\n",
    "    k2w= 0\n",
    "    k2p= s*R_p(e+0.5*k1e, y+0.5*k1y, h+0.5*k1h, m+0.5*k1m, b+0.5*k1b, w+0.5*k1w, p+0.5*k1p)\n",
    "\n",
    "    # K3 values for RK4\n",
    "    k3e= s*R_e(e+0.5*k2e, y+0.5*k2y, h+0.5*k2h, m+0.5*k2m, b+0.5*k2b, w+0.5*k2w, p+0.5*k2p)\n",
    "    k3y= s*R_y(e+0.5*k2e, y+0.5*k2y, h+0.5*k2h, m+0.5*k2m, b+0.5*k2b, w+0.5*k2w, p+0.5*k2p)\n",
    "    k3h= s*R_h(e+0.5*k2e, y+0.5*k2y, h+0.5*k2h, m+0.5*k2m, b+0.5*k2b, w+0.5*k2w, p+0.5*k2p)\n",
    "    k3m= s*R_m(e+0.5*k2e, y+0.5*k2y, h+0.5*k2h, m+0.5*k2m, b+0.5*k2b, w+0.5*k2w, p+0.5*k2p)\n",
    "    k3b= s*R_b(e+0.5*k2e, y+0.5*k2y, h+0.5*k2h, m+0.5*k2m, b+0.5*k2b, w+0.5*k2w, p+0.5*k2p)\n",
    "    k3w= 0\n",
    "    k3p= s*R_p(e+0.5*k2e, y+0.5*k2y, h+0.5*k2h, m+0.5*k2m, b+0.5*k2b, w+0.5*k2w, p+0.5*k2p)\n",
    "\n",
    "    # K4 values for RK4\n",
    "    k4e = s*R_e(e+k3e, y+k3y, h+k3h, m+k3m, b+k3b, w+k3w, p+k3p)\n",
    "    k4y= s*R_y(e+k3e, y+k3y, h+k3h, m+k3m, b+k3b, w+k3w, p+k3p)\n",
    "    k4h= s*R_h(e+k3e, y+k3y, h+k3h, m+k3m, b+k3b, w+k3w, p+k3p)\n",
    "    k4m= s*R_m(e+k3e, y+k3y, h+k3h, m+k3m, b+k3b, w+k3w, p+k3p)\n",
    "    k4b= s*R_b(e+k3e, y+k3y, h+k3h, m+k3m, b+k3b, w+k3w, p+k3p)\n",
    "    k4w= 0\n",
    "    k4p= s*R_p(e+k3e, y+k3y, h+k3h, m+k3m, b+k3b, w+k3w, p+k3p)\n",
    "\n",
    "\n",
    "    # Update flux values and pressure\n",
    "    e = e + (k1e + 2*k2e + 2*k3e + k4e)/6\n",
    "    y = y + (k1y + 2*k2y + 2*k3y + k4y)/6\n",
    "    h = h + (k1h + 2*k2h + 2*k3h + k4h)/6\n",
    "    m = m + (k1m + 2*k2m + 2*k3m + k4m)/6\n",
    "    b = b + (k1b + 2*k2b + 2*k3b + k4b)/6\n",
    "    w = w + (k1w + 2*k2w + 2*k3w + k4w)/6\n",
    "    p = p + (k1p + 2*k2p + 2*k3p + k4p)/6\n",
    "\n",
    "    # Store selectivity on the last iteration\n",
    "    if (i == L-1):\n",
    "        SY = (Y[i]-Y[0])/(Y[i]-Y[0]+M[i]+B[i]+H[i])"
   ]
  },
  {
   "cell_type": "code",
   "execution_count": 6,
   "metadata": {},
   "outputs": [
    {
     "name": "stdout",
     "output_type": "stream",
     "text": [
      "The selectivity of ethylene is 0.3785\n"
     ]
    },
    {
     "data": {
      "image/png": "[encoded data removed]",
      "text/plain": [
       "<Figure size 432x288 with 1 Axes>"
      ]
     },
     "metadata": {
      "needs_background": "light"
     },
     "output_type": "display_data"
    }
   ],
   "source": [
    "# Print result for ethylene selectivity and plot concentrations\n",
    "print(\"The selectivity of ethylene is\",round(SY,4))\n",
    "\n",
    "plt.plot(z, CE, color=\"black\", label=\"$\\mathregular{C_E}$\")\n",
    "plt.plot(z, CY, color = \"blue\", label=\"$\\mathregular{C_Y}$\")\n",
    "plt.plot(z, CM, color = \"green\", label=\"$\\mathregular{C_M}$\")\n",
    "plt.plot(z, CB, color = \"red\", label=\"$\\mathregular{C_B}$\")\n",
    "plt.xlim(0,85)\n",
    "plt.legend(loc=\"upper right\")\n",
    "plt.xlabel(\"z (m)\")\n",
    "plt.ylabel(\"Concentration (mol/$\\mathregular{m^3}$)\")\n",
    "plt.title(\"Concentrations of Ethane, Ethylene, Methane, and Butane vs. Axial Distance\")\n",
    "plt.show()"
   ]
  }
 ],
 "metadata": {
  "kernelspec": {
   "display_name": "Python 3",
   "language": "python",
   "name": "python3"
  },
  "language_info": {
   "codemirror_mode": {
    "name": "ipython",
    "version": 3
   },
   "file_extension": ".py",
   "mimetype": "text/x-python",
   "name": "python",
   "nbconvert_exporter": "python",
   "pygments_lexer": "ipython3",
   "version": "3.8.5"
  }
 },
 "nbformat": 4,
 "nbformat_minor": 4
}
