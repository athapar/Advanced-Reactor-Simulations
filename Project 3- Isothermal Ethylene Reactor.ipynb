{
 "cells": [
  {
   "cell_type": "markdown",
   "metadata": {},
   "source": [
    "# Remodeling Ethylene Reactor using a different model\n",
    "\n",
    "### RK4 is employed once again to model the ethylene reactor with a more accurate reaction model taking into account the heat capacity."
   ]
  },
  {
   "cell_type": "code",
   "execution_count": 1,
   "metadata": {},
   "outputs": [],
   "source": [
    "# Import libraries\n",
    "import numpy as np\n",
    "from numpy import *\n",
    "import matplotlib.pyplot as plt\n",
    "plt.style.use('seaborn-white')"
   ]
  },
  {
   "cell_type": "code",
   "execution_count": 2,
   "metadata": {},
   "outputs": [],
   "source": [
    "#Step size and total number of iterations\n",
    "s = 0.1\n",
    "length = 95\n",
    "z = arange(0,length+s,s)   # Adjust step vector since python rounds down\n",
    "S = len(z)                 # Total iterations\n",
    "\n",
    "# Parameters\n",
    "d = 10.0/100;\n",
    "r = d/2\n",
    "R_g = 8.3145\n",
    "A_c = math.pi*r**2"
   ]
  },
  {
   "cell_type": "code",
   "execution_count": 3,
   "metadata": {},
   "outputs": [],
   "source": [
    "# Import parameters to model heat capacity (C_p)\n",
    "# Use DIPPR values for viscosity data. Order for values is [E,Y,H,P,M,L,A,B,W]\n",
    "A = [2.5906E-07, 2.0789E-06, 1.797E-07, 4.9054E-08, 5.2546E-07, 7.3919E-07, 1.2025E-06, 2.696E-07, 1.7096e-8]\n",
    "B = [0.67988, 0.4163, 0.685, 0.90125, 0.59006, 0.5423, 0.4952, 0.6715, 1.1146]\n",
    "C = [98.902, 352.7, -0.59, 0, 105.67, 263.73, 291.4, 134.7, 0]\n",
    "D = [0, 0, 140, 0, 0, 0, 0, 0, 0]\n",
    "\n",
    "# Also turn molecular weights into an array (in order of E,Y,H,P,M,L,A,B,W)\n",
    "MW = [30.069, 28.0532, 2.01588, 44.0956, 16.0425, 42.0797, 26.0373, 54.0904, 18.01528]\n",
    "\n",
    "# Use DIPPR values for C_p data into arrays. Order for values is [E,Y,H,P,M,L,A,B,W]\n",
    "CP_A = [44256, 33380, 64979, 59474, 33298, 43852, 36921, 50950, 33363]\n",
    "CP_B=[84737, 94790, -788.17, 126610, 79933, 150600, 31793, 170500, 26790]\n",
    "CP_C = [872.24, 1596, 5.8287, 844.31, 2086.9, 1398.8, 678.05, 1532.4, 2610.5]\n",
    "CP_D = [67130, 55100, -0.018459, 86165, 41602, 74754, 33430, 133700, 8896]\n",
    "CP_E = [2430.4, 740.8, 0.00002164, 2482.7, 991.96, 616.46, 3036.6, 685.6, 1169]"
   ]
  },
  {
   "cell_type": "code",
   "execution_count": 5,
   "metadata": {},
   "outputs": [],
   "source": [
    "# Calculate average heat capacity (C_P) using DIPPR data\n",
    "def C_p(N,T):\n",
    "  Flux_sum = sum(N)\n",
    "  mol_frac = N/float(Flux_sum)\n",
    "  m_tot = dot(mol_frac,MW)  # Dot product of mol fraction and molecular weights gives total mass\n",
    "  Value = 0\n",
    "  for i in range(len(N)):\n",
    "    C_pi = float(CP_A[i] + CP_B[i]*(CP_C[i]/(T*math.sinh(CP_C[i]/T)))**2 + CP_D[i]*(CP_E[i]/(T*math.cosh(CP_E[i]/T)))**2)\n",
    "    w_i = float(mol_frac[i]*MW[i])/m_tot                  # Mass fraction of i\n",
    "    Value += w_i * C_pi\n",
    "  return(Value)\n",
    "\n",
    "# Find average viscosities according to Graham's model since Herning and Zipperer assume low Hydrogen. [1]\n",
    "def mu(N,T):\n",
    "  Flux_sum = sum(N)\n",
    "  mol_frac = N/float(Flux_sum)\n",
    "  m_tot = dot(mol_frac,MW)  # Dot product of mol fraction and molecular weights gives total mass\n",
    "  Value = 0\n",
    "  for i in range(len(N)):                                 # Loop to find sum \n",
    "    mu_i = float(A[i]*T**B[i]/(1+(C[i]/T)+(D[i]/T**2)))   # Viscosity of componenent i\t\t\t\t\t\t \n",
    "    w_i = float(mol_frac[i]*MW[i])/m_tot\t\t\t\t\t\t\t\t\t# Mass fraction of i∫\n",
    "    Value += w_i * mu_i\n",
    "  return(Value)"
   ]
  },
  {
   "cell_type": "code",
   "execution_count": 6,
   "metadata": {},
   "outputs": [],
   "source": [
    "# Determine rate constants by temperature\n",
    "K1f = lambda x: (4.652e13)*math.exp(-32811.73924/x)\n",
    "K1r = lambda x: ((8.75e8)/1000)*math.exp(-16456.19437/x)  # convert k0 from kmol to mol\n",
    "K2  = lambda x: (3.850e11)*math.exp(-32836.90161/x)\n",
    "K5f = lambda x: (9.814e8)*math.exp(-18579.89897/x)\n",
    "K5r = lambda x: ((5.87e4)/1000)*math.exp(-3544.372384/x)\n",
    "K6  = lambda x: ((1.026e12)/1000)*math.exp(-20763.99326/x)\n",
    "K8  = lambda x: ((7.083e13)/1000)*math.exp(-30411.2485/x)\n"
   ]
  },
  {
   "cell_type": "code",
   "execution_count": 7,
   "metadata": {},
   "outputs": [],
   "source": [
    "# Rate Equations will be an array: We input all fluxes as a vector N, along with velocity and temperature\n",
    "# This method keeps rendundant inputs (like propane and 1,3 butadiene), but makes calculations easier\n",
    "# indices [0,1,2,3,4,5,6,7,8] correspond to [E,Y,H,P,M,L,A,B]\n",
    "\n",
    "R = lambda N,v,T: array([\n",
    "-K1f(T)*(N[0]/v) + K1r(T)*N[1]*N[2]/(v**2) - 2*K2(T)*(N[0]/v) - K8(T)*N[1]*N[0]/(v**2),           # Ethane\n",
    " K1f(T)*(N[0]/v) - K1r(T)*N[1]*N[2]/(v**2) - K6(T)*N[6]*N[1]/(v**2) - K8(T)*N[1]*N[0]/(v**2),     # Ethylene\n",
    " K1f(T)*(N[0]/v) - K1r(T)*N[1]*N[2]/(v**2),                                                       # Hydrogen\n",
    " K2(T)*(N[0]/v),                                                                                  # Propane\n",
    " K2(T)*(N[0]/v) + K5f(T)*(N[5]/v) - K5r(T)*N[6]*N[4]/(v**2) + K8(T)*N[1]*N[0]/(v**2),             # Methane\n",
    "-K5f(T)*(N[5]/v) + K5r(T)*N[6]*N[4]/(v**2) + K8(T)*N[1]*N[0]/(v**2),                              # Propylene\n",
    " K5f(T)*(N[5]/v) - K5r(T)*N[6]*N[4]/(v**2) - K6(T)*N[6]*N[1]/(v**2),                              # Acetylene\n",
    " K6(T)*N[6]*N[1]/(v**2),                                                                          # Butane\n",
    " 0])"
   ]
  },
  {
   "cell_type": "code",
   "execution_count": 8,
   "metadata": {},
   "outputs": [],
   "source": [
    "# Set entering fluxes for E, Y, and W \n",
    "N, N_t = zeros(9), zeros((S,9))   # Flux Vector and Flux Matrix\n",
    "N[0], N[1], N[8] = 99/A_c, 1/A_c, (66+float(2)/3)/A_c\n",
    "N_t[0,:] = N\n",
    "\n",
    "# Initialize pressure\n",
    "P = zeros(S)\n",
    "P[0] = 11*101325.0    # Initial pressure is 11 atm \n",
    "\n",
    "# Set temperature\n",
    "T = 820+273.15        # T = 820 C initially"
   ]
  },
  {
   "cell_type": "code",
   "execution_count": 9,
   "metadata": {},
   "outputs": [],
   "source": [
    "# RK4/Euler Loop\n",
    "for i in range(S-1):\n",
    "    v = R_g*T*sum(N)/P[i]\n",
    "    mu_av = mu(N,T)\n",
    "\n",
    "    k1 = s*R(N,v,T)                             # Sets k1 for all reaction odes\n",
    "    k2 = s*R(N+0.5*k1, v, T)                    # Sets k2 for all reaction odes\n",
    "    k3 = s*R(N+0.5*k2, v, T)                    # Sets k3 for all reaction odes\n",
    "    k4 = s*R(N+k3, v, T)                        # Sets k4 for all reaction odes\n",
    "\n",
    "    N += (k1 + 2*k2 + 2*k3 + k4)/6                    # RK4 iteration step\n",
    "    N_t[i+1,:] = N                                    # Store fluxes to matrix as new row \n",
    "                                                      # Columns will be componenents: E,Y,H,P,M,L,A,B,W\n",
    "    P[i+1] = P[i] - s*(309.66176*(mu_av)**0.25)*v     # Euler method iteration step"
   ]
  },
  {
   "cell_type": "code",
   "execution_count": 10,
   "metadata": {},
   "outputs": [
    {
     "name": "stdout",
     "output_type": "stream",
     "text": [
      "The selectivity of ethylene is 23.7 %\n",
      "Conversion of ethane is  64.2 %\n"
     ]
    }
   ],
   "source": [
    "# Selectivity and Conversion Calculation\n",
    "N_final = N_t[S-1,:]\n",
    "products = sum(N_final) - N_final[0]- N_final[8] - N_t[0,1]  # Subtract ethane, steam, and initial ethylene to find total products of rxn\n",
    "S_y = (N_final[1]- N_t[0,1])/products                        # Selectivity of ethylene will be total Y produced divided by products\n",
    "Conv = 1 - N_final[0]/N_t[0,0]                               # Conversion = 1 - Cf/C0 = 1 - Nf/N0 since Ac is constant\n",
    "print(\"The selectivity of ethylene is\",round(100*S_y,2),\"%\")\n",
    "print('Conversion of ethane is ',round(100*Conv,2),'%')\n",
    "\n",
    "# Create Matrix of values for mole fractions to plot\n",
    "Y_t = zeros((S,9))\n",
    "for i in range(S):            \n",
    "  N_tot = sum(N_t[i,:])\n",
    "  Y_t[i,:] = N_t[i,:]/N_tot   "
   ]
  },
  {
   "cell_type": "code",
   "execution_count": 11,
   "metadata": {},
   "outputs": [
    {
     "data": {
      "image/png": "[encoded data removed]",
      "text/plain": [
       "<Figure size 432x288 with 1 Axes>"
      ]
     },
     "metadata": {},
     "output_type": "display_data"
    }
   ],
   "source": [
    "# Plotting \n",
    "disp = 'S$_y$ = '+ str(round(100*S_y,2)) + '%'\n",
    "plt.figure(1)\n",
    "plt.plot(z, Y_t[:,0], label=\"$\\mathregular{y_E}$\")\n",
    "plt.plot(z, Y_t[:,1], label=\"$\\mathregular{y_Y}$\")\n",
    "plt.xlim(0,length)\n",
    "plt.text(80,0.48,disp)\n",
    "plt.legend(loc=\"upper right\")\n",
    "plt.xlabel(\"z (m)\")\n",
    "plt.ylabel(\"y\")\n",
    "plt.title('Mole Fractions of Ethane and Ethylene vs. Axial Distance in PFR')\n",
    "plt.show()   "
   ]
  }
 ],
 "metadata": {
  "kernelspec": {
   "display_name": "Python 3",
   "language": "python",
   "name": "python3"
  },
  "language_info": {
   "codemirror_mode": {
    "name": "ipython",
    "version": 3
   },
   "file_extension": ".py",
   "mimetype": "text/x-python",
   "name": "python",
   "nbconvert_exporter": "python",
   "pygments_lexer": "ipython3",
   "version": "3.8.5"
  }
 },
 "nbformat": 4,
 "nbformat_minor": 4
}
