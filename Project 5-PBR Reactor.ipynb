{
 "cells": [
  {
   "cell_type": "code",
   "execution_count": 1,
   "metadata": {},
   "outputs": [],
   "source": [
    "import numpy as np\n",
    "import matplotlib.pyplot as plt"
   ]
  },
  {
   "cell_type": "code",
   "execution_count": 2,
   "metadata": {},
   "outputs": [],
   "source": [
    "#  General Parameters\n",
    "P = 2.2 #[atm] Pressure (assuming no pressure drop)\n",
    "mu = 3.0e-5  # [Pa s] Viscosity as given\n",
    "ep = 0.6 # Void fraction        \n",
    "v_s = 1.0 # [m/s] Given superficial velocity\n",
    "d_t = 0.05 #[m] inner diameter\n",
    "radius = d_t/2.0 # [m] Radius\n",
    "L = 5.0 #[m] Length of tube\n",
    "k_0 = np.exp(20.348) # Parameter from equation for rate constant            \n",
    "T_act = 13636 # Activation Temperature\n",
    "\n",
    "# Concentration Parameters\n",
    "D_r = 3.8e-4 # [m^2/s]  Radial Diffusivity         \n",
    "c_ox_in = 0.4144  #[mol/m^3]\n",
    "\n",
    "# Temperature Parameters\n",
    "delH  = -307.0 #[kcal/mol]\n",
    "Twall = 640   # [K] Wall temperature\n",
    "kappa = 0.4   # Thermal conductivity\n",
    "Cp = 0.237 # [cal/g*K] Heat capacity \n",
    "heat = -307000   # [cal/mol] heat of reaction to mass units\n",
    "rho = 1.29 # Gas density at the inlet             \n",
    "hr = 120  #[W/m^2-K] heat transfer coefficient\n",
    "T_in = 600 # [K]             \n",
    "E_r = kappa/rho/Cp\n",
    "\n",
    "# Method of Lines parameters\n",
    "N = 5 # Number of nodes\n",
    "r = np.linspace(0, radius, N) # Create node positions along radius\n",
    "h = r[1] - r[0]              \n",
    "\n",
    "zstep = v_s*h**2 / 4 / E_r\n",
    "z = np.arange(0,5,zstep)"
   ]
  },
  {
   "cell_type": "code",
   "execution_count": 3,
   "metadata": {},
   "outputs": [],
   "source": [
    "def ODE_ox(C, T ,r):\n",
    "    dCdz = np.zeros(N)\n",
    "    dCdz[0] = (4*D_r/(v_s*h**2))*(C[1]-C[0]) - (ep*k_0/v_s)*np.exp(-T_act/T[0])*C[0]\n",
    "    for i in range(1,N-1):\n",
    "        dCdz[i] = (D_r/(v_s*h**2))*((2*i +1)*C[i+1]/(2*i) - 2*C[i] + (2*i - 1)*C[i-1]/(2*i)) - (ep*k_0/v_s)*np.exp(-T_act/T[i])*C[i]\n",
    "    return dCdz\n",
    "\n",
    "def ODE_T(C, T ,r):\n",
    "        dTdz = np.zeros(N) # Initialize and leave dTdz[0] as 0 (boundary condition)\n",
    "        dTdz[0] = (4*E_r/(v_s*h**2))*(C[1]-C[0]) - (ep*k_0*delH*C[0]/(v_s*rho*Cp))*np.exp(-T_act/T[0])\n",
    "        for i in range(1,N-1):\n",
    "                dTdz[i] = (E_r/(v_s*h**2)) * ((2*i +1)*T[i+1]/(2*i) - 2*T[i] + (2*i - 1)*T[i-1]/(2*i)) - (ep*k_0*delH*C[i]/(v_s*rho*Cp))*np.exp(-T_act/T[i])   \n",
    "        return dTdz\n",
    "        \n",
    "\n",
    "ox = c_ox_in*np.ones(N) # Becomes initial value in loop\n",
    "ox_mat = np.zeros((len(ox),len(z))) # Store concentration in nodes as a matrix\n",
    "T = T_in*np.ones(ox.shape)   # Initial temperature in nodes\n",
    "T_mat = np.zeros((len(T), len(z)))  # Store node temperature in a matrix\n",
    "\n",
    "ox_mat[:,0] = ox\n",
    "T_mat[:,0] = T\n",
    "\n",
    "for i in range(len(z)):\n",
    "         \n",
    "    ox_change = ODE_ox(ox,T,r)\n",
    "    T_change = ODE_T(ox,T,r)\n",
    "\n",
    "    # Apply Boundary Conditions\n",
    "    ox[N-1] = (18.0*ox[N-2] - 9.0*ox[N-3] + 2.0*ox[N-4])/11.0\n",
    "    T[N-1] = (6*h*hr*Twall + 18*kappa*T[N-2] - 9*kappa*T[N-3] + 2*kappa*T[N-4])/(6*h*hr + 11*kappa)\n",
    "\n",
    "    # Update Loop\n",
    "    ox += zstep*ox_change\n",
    "    T += zstep*T_change\n",
    "\n",
    "    # Update Matrices\n",
    "    ox_mat[:,i] = ox\n",
    "    T_mat[:,i] = T"
   ]
  },
  {
   "cell_type": "code",
   "execution_count": 4,
   "metadata": {},
   "outputs": [
    {
     "data": {
      "image/png": "[encoded data removed]",
      "text/plain": [
       "<Figure size 432x288 with 1 Axes>"
      ]
     },
     "metadata": {
      "needs_background": "light"
     },
     "output_type": "display_data"
    }
   ],
   "source": [
    "#Plotting\n",
    "plt.plot(z, T_mat[0,:], label=\"T$\\mathregular{_{mat}}}$\")\n",
    "plt.xlabel(\"z (m)\")\n",
    "plt.ylabel(\"T$\\mathregular{_{mat}}$ (K)\")\n",
    "plt.legend(loc=\"upper right\")\n",
    "plt.title(\"Node Temperature vs. Axial Distance in PBR\")\n",
    "plt.show()"
   ]
  }
 ],
 "metadata": {
  "kernelspec": {
   "display_name": "Python 3",
   "language": "python",
   "name": "python3"
  },
  "language_info": {
   "codemirror_mode": {
    "name": "ipython",
    "version": 3
   },
   "file_extension": ".py",
   "mimetype": "text/x-python",
   "name": "python",
   "nbconvert_exporter": "python",
   "pygments_lexer": "ipython3",
   "version": "3.8.5"
  }
 },
 "nbformat": 4,
 "nbformat_minor": 4
}
