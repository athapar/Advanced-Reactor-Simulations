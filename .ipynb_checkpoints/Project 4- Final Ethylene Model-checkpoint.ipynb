{
 "cells": [
  {
   "cell_type": "markdown",
   "metadata": {},
   "source": [
    "# Project 4: Final Ethylene Reactor Model\n",
    "\n",
    "### Final model of the ethylene reactor: temperature fluctuations due to reaction are taken into account (non-isothermal model) in addition to previous corrections. "
   ]
  },
  {
   "cell_type": "markdown",
   "metadata": {},
   "source": [
    "<img src=\"Images/PFRMassBalance.png\" alt=\"PFR\" width=\"610\"/>"
   ]
  },
  {
   "cell_type": "code",
   "execution_count": 1,
   "metadata": {},
   "outputs": [],
   "source": [
    "# Import libraries\n",
    "import numpy as np\n",
    "import matplotlib.pyplot as plt\n",
    "import math\n",
    "plt.style.use('seaborn-white')"
   ]
  },
  {
   "cell_type": "code",
   "execution_count": 3,
   "metadata": {},
   "outputs": [],
   "source": [
    "#Step size and total number of iterations\n",
    "pi = np.pi\n",
    "s = 0.1\n",
    "length = 100\n",
    "z = np.arange(0,length+s,s)   # Have to adjust step vector since python rounds down\n",
    "S = len(z)                    # Total iterations\n",
    "\n",
    "# Parameters\n",
    "d = 10.0/100.0;\n",
    "r = d/2\n",
    "r_o = r + 0.003\n",
    "R_g = 8.3145\n",
    "A_i = pi*r**2\n",
    "A_o = pi*(r+.003)**2\n",
    "\n",
    "# Also turn molecular weights into an array (in order of E,Y,H,P,M,L,A,B,W)\n",
    "MW = [30.069, 28.0532, 2.01588, 44.0956, 16.0425, 42.0797, 26.0373, 54.0904, 18.01528]"
   ]
  },
  {
   "cell_type": "code",
   "execution_count": 4,
   "metadata": {},
   "outputs": [],
   "source": [
    "# Find average viscosities according to Graham's model since Herning and Zipperer assume low Hydrogen. [1]\n",
    "def mu(N,T):\n",
    "  # Use DIPPR values for viscosity data into arrays. Order for values is [E,Y,H,P,M,L,A,B,W]\n",
    "  A = [2.5906E-07, 2.0789E-06, 1.797E-07, 4.9054E-08, 5.2546E-07, 7.3919E-07, 1.2025E-06, 2.696E-07, 1.7096e-8]\n",
    "  B = [0.67988, 0.4163, 0.685, 0.90125, 0.59006, 0.5423, 0.4952, 0.6715, 1.1146]\n",
    "  C = [98.902, 352.7, -0.59, 0, 105.67, 263.73, 291.4, 134.7, 0]\n",
    "  D = [0, 0, 140.0, 0, 0, 0, 0, 0, 0]\n",
    "\n",
    "  Flux_sum = sum(N)\n",
    "  mol_frac = N/float(Flux_sum)\n",
    "  Value = 0\n",
    "  for i in range(len(N)):                                 # Loop to find sum \n",
    "    mu_i = float(A[i]*T**B[i]/(1+(C[i]/T)+(D[i]/T**2)))   # Viscosity of componenent i\t\t\t\t\t\t \n",
    "    x_i = mol_frac[i]             \t\t          # Mass fraction of i\n",
    "    Value += x_i * mu_i\n",
    "  return(Value)\n",
    "\n",
    "# Find average heat capacity (C_P) using DIPPR data\n",
    "def C_p(N,T,vec):\n",
    "  # Use DIPPR values for C_p data into arrays. Order for values is [E,Y,H,P,M,L,A,B,W]\n",
    "  A = [44256.0, 33380.0, 27167.0, 59474.0, 33298.0, 43852.0, 36921.0, 50950.0, 33363.0]\n",
    "  B = [84737.0, 94790.0, 9560.0, 126610.0, 79933.0, 150600.0, 31793.0, 170500.0, 26790.0]\n",
    "  C = [872.24, 1596.0, 2466.0, 844.31, 2086.9, 1398.8, 678.05, 1532.4, 2610.5]\n",
    "  D = [67130.0, 55100.0, 3760.0, 86165.0, 41602.0, 74754.0, 33430.0, 133700.0, 8896.0]\n",
    "  E = [2430.4, 740.8, 567.6, 2482.7, 991.96, 616.46, 3036.6, 685.6, 1169.0]\n",
    "\n",
    "  mol_frac = N/float(np.sum(N))\n",
    "  Value = 0\n",
    "\n",
    "  \n",
    "  if vec:\n",
    "    vector = np.zeros(len(N))\n",
    "    for i in range(len(N)):\n",
    "      vector[i] = float(A[i] + B[i]*(C[i]/(T*math.sinh(C[i]/T)))**2 + D[i]*(E[i]/(T*math.cosh(E[i]/T)))**2)/1000.0 # J/mol-K\n",
    "    return vector\n",
    "  \n",
    "  else:\n",
    "    for i in range(len(N)):\n",
    "      C_pi = float(A[i] + B[i]*(C[i]/(T*math.sinh(C[i]/T)))**2 + D[i]*(E[i]/(T*math.cosh(E[i]/T)))**2)  # J/kmol-K\n",
    "      x_i = mol_frac[i]\n",
    "      Value += float(x_i * C_pi / MW[i])\n",
    "    return(Value)  #Return in units J/kg-K\n",
    "\n",
    "# Use DIPPR correlations to calculate the value of the thermal conductivity of the gas mixture (k_T)\n",
    "def k_gas(N,T):\n",
    "    # Use DIPPR values for viscosity data into arrays. Order for values is [E,Y,H,P,M,L,A,B,W]\n",
    "  A = [ 0.000073869, 8.6806E-06, 0.002653, -1.12, 8.3983E-06, 0.0000449, 0.000075782, -20890.0, 6.2041E-06]\n",
    "  B = [1.1689, 1.4559, 0.7452, 0.10972, 1.4268, 1.2018, 1.0327, 0.9593, 1.3973]\n",
    "  C = [500.73, 299.72, 12.0, -9834.6, -49.654, 421.0, -36.227, -93820000000.0, 0]\n",
    "  D = [0, -29403.0, 0, -7535800.0, 0, 0, 31432.0, 0, 0]\n",
    "\n",
    "  Flux_sum = sum(N)\n",
    "  mol_frac = N/float(Flux_sum)\n",
    "  Value = 0\n",
    "  for i in range(len(N)):                                 # Loop to find sum \n",
    "    mu_i = float(A[i]*T**B[i]/(1+(C[i]/T)+(D[i]/T**2)))   # Viscosity of componenent i             \n",
    "    x_i = float(mol_frac[i])                              # Mole fraction of i\n",
    "    Value += x_i * mu_i\n",
    "  return(Value)\n"
   ]
  },
  {
   "cell_type": "code",
   "execution_count": 5,
   "metadata": {},
   "outputs": [],
   "source": [
    "# Thermal conductivity of steel from NIST (Range for temperature is 298-1633 K)\n",
    "k_s = lambda T: 10.33 + 15.54e-3*T - 7e-7*T**2\n",
    "\n",
    "\n",
    "# Determine rate constants by temperature\n",
    "K1f = lambda x: (4.652e13)*math.exp(-32811.73924/x)\n",
    "K1r = lambda x: ((8.75e8)/1000)*math.exp(-16456.19437/x)\n",
    "K2  = lambda x: (3.850e11)*math.exp(-32836.90161/x)\n",
    "K5f = lambda x: (9.814e8)*math.exp(-18579.89897/x)\n",
    "K5r = lambda x: ((5.87e4)/1000)*math.exp(-3544.372384/x)\n",
    "K6  = lambda x: ((1.026e12)/1000)*math.exp(-20763.99326/x)\n",
    "K8  = lambda x: ((7.083e13)/1000)*math.exp(-30411.2485/x)"
   ]
  },
  {
   "cell_type": "code",
   "execution_count": 7,
   "metadata": {},
   "outputs": [],
   "source": [
    "# Create Reaction Vector for all 7 reactions\n",
    "R = lambda N,v,T: np.array([\n",
    "K1f(T)*(N[0]/v),            # Reaction 1\n",
    "K1r(T)*N[1]*N[2]/(v**2),    # Reaction 2\n",
    "K2(T)*(N[0]/v),             # Reaction 3\n",
    "K5f(T)*(N[5]/v),            # Reaction 4\n",
    "K5r(T)*N[6]*N[4]/(v**2),    # Reaction 5\n",
    "K6(T)*N[6]*N[1]/(v**2),     # Reaction 6\n",
    "K8(T)*N[1]*N[0]/(v**2),     # Reaction 7\n",
    "])\n",
    "\n",
    "# Heats of formation as a function of T and Heat capacity\n",
    "H_25 = np.array([-83820, 52510, 0, -104680, -74520, 19710, 228200, 109240, -241814]) # Standard heats of formation from Perry's\n",
    "\n",
    "Hf = lambda T,C: H_25 + ((T-298)/1000)*Cp       # Heat of formation at any T\n",
    "\n",
    "# Heats of Reaction\n",
    "delH = lambda T,C:  np.array([(Hf(T,C)[1] + Hf(T,C)[2]) - Hf(T,C)[0],\n",
    "                            Hf(T,C)[0] - (Hf(T,C)[1] + Hf(T,C)[2]),\n",
    "                           (Hf(T,C)[3] + Hf(T,C)[4]) - 2*Hf(T,C)[0],\n",
    "                           (Hf(T,C)[4] + Hf(T,C)[6]) - Hf(T,C)[5],\n",
    "                            Hf(T,C)[5] - (Hf(T,C)[4] + Hf(T,C)[6]),\n",
    "                            Hf(T,C)[7] - (Hf(T,C)[6] + Hf(T,C)[1]),\n",
    "                            (Hf(T,C)[4] + Hf(T,C)[5]) - (Hf(T,C)[0] + Hf(T,C)[1]) ])\n",
    "\n",
    "# Temperature ODE (Energy Balance)\n",
    "dTdz = lambda N,v,T,dPdz,delH_T,U,Cp: -(R(N,v,T).dot(delH_T))/(rho_v*Cp) - (v/(rho_v*Cp))*(dPdz) + (2*U/(rho_v*Cp*(r_o)))*(T_ext - T)\n"
   ]
  },
  {
   "cell_type": "code",
   "execution_count": 8,
   "metadata": {},
   "outputs": [],
   "source": [
    "# Array for coefficients to reactions\n",
    "M_v = np.array([\n",
    "[-1, 1, -2, 0, 0, 0 , -1],  # Ethane\n",
    "[1, -1, 0, 0, 0, -1, -1],   # Ethylene\n",
    "[1, -1, 0, 0, 0, 0, 0],     # Hydrogen\n",
    "[0, 0, 1, 0, 0, 0, 0],      # Propane\n",
    "[0, 0, 1, 1, -1, 0, 1],     # Methane\n",
    "[0, 0, 0, -1, 1, 0, 1],     # Propylene\n",
    "[0, 0, 0, 1, -1, -1, 0],    # Acetylene\n",
    "[0, 0, 0, 0, 0, 1, 0],      # 1,3 Butadiene\n",
    "[0, 0, 0, 0, 0, 0, 0]       # Steam (Inerts)\n",
    "])\n",
    "\n",
    "\n",
    "# Set entering fluxes for E, Y, and W \n",
    "N, N_array = np.zeros(9), np.zeros((S,9))              # Flux Vector and Flux Matrix\n",
    "N[0], N[1], N[8] = 99.0/A_i, 1.0/A_i, (66+2.0/3)/A_i   # Set known values for flux\n",
    "N_array[0,:] = N\n",
    "T_vals, v_vals = np.zeros(S), np.zeros(S)\n",
    "T_vals[0], v_vals[0] = 820+273.15 , 173.047554977\n",
    "# Initialize pressure\n",
    "P = np.zeros(S)\n",
    "P[0] = 11*101325.0    # Initial pressure is 11 atm \n",
    "\n",
    "# Set temperature\n",
    "T = 820+273.15        # T = 820 C initially\n",
    "v = 173.047554977\n",
    "mu_av = 3.1662825959e-05\n",
    "\n",
    "# Parameters for dTdz (intial values were obtained from previous code without varying T)\n",
    "rho_v = 567.249885215       #rho_0*v_0\n",
    "C_p_0 = 3.715689008049358   # Inlet Cp\n",
    "T_ext = 1173.15             # Temperature of the wall\n",
    "mu_av = 3.1662825959e-05    # Inlet viscosity\n",
    "k = 0.15207419642643266     # Inlet mixture thermal conductivity\n",
    "mu_av = 3.1662825959e-05    # Inlet viscoisty"
   ]
  },
  {
   "cell_type": "code",
   "execution_count": 9,
   "metadata": {},
   "outputs": [],
   "source": [
    "# RK4/Euler Loop\n",
    "for i in range(S-1):\n",
    "\n",
    "    # Thermodynamic properites \n",
    "    mu_av = mu(N,T)  # average viscosity\n",
    "    mu_wall = mu(N,T_ext)     #Average viscosity at the wall\n",
    "    Cp = C_p(N,T,False) # Cp as a value\n",
    "    Cp_vec = C_p(N,T,True) # Need Cp as a vector for calculation of delta H of reaction\n",
    "\n",
    "    k = k_gas(N,T) # Thermal conductvity of the gas mixture\n",
    "\n",
    "    # Use correlation from class to find Nusselt number:\n",
    "    Re = float(rho_v*d/ mu_av)\n",
    "    Pr = float(Cp*mu_av/k)\n",
    "    \n",
    "    Nu = (0.023)*(Re**(0.80)) * (Pr**(1./3)) * ((mu_av/mu_wall)**0.14)\n",
    "\n",
    "    # Then get convective HT coefficient, and average HT coefficient\n",
    "    h_i = (float(k)/d)*Nu     #convective heat transfer coefficient\n",
    "\n",
    "    U = h_i*A_i/2*A_o #Overall heat transfer coefficient\n",
    "\n",
    "    delH_T = delH(T,Cp_vec)\n",
    "\n",
    "    # Pressure Change\n",
    "    dPdz = -(309.66176*(mu_av)**0.25)*v                      # Pressure change along reactor length\n",
    "\n",
    "    # Velocity\n",
    "    v = R_g*T*sum(N)/P[i]                                    # Set velocity based on pressure and flux\n",
    "    Ri = R(N,v,T)\n",
    "    # RK Loop\n",
    "    k1 = s*M_v.dot(R(N,v,T))                                 # Sets k1 for all reaction odes\n",
    "    k1T = s*dTdz(N,v,T,dPdz,delH_T,U,Cp)\n",
    "\n",
    "    k2 = s*M_v.dot(R(N+0.5*k1, v, T+0.5*k1T))                # Sets k2 for all reaction odes\n",
    "    k2T = s*dTdz(N+0.5*k1,v,T+0.5*k1T,dPdz,delH_T,U,Cp)\n",
    "\n",
    "\n",
    "    k3 = s*M_v.dot(R(N+0.5*k2, v, T+0.5*k2T))                # Sets k3 for all reaction odes\n",
    "    k3T = s*dTdz(N+0.5*k2,v,T+0.5*k2T,dPdz, delH_T,U,Cp)\n",
    "\n",
    "    k4 = s*M_v.dot(R(N+k3, v, T+k3T))                        # Sets k4 for all reaction odes\n",
    "    k4T = s*dTdz(N+k3,v,T+k3T,dPdz,delH_T,U,Cp)\n",
    "\n",
    "    # Matrix Update\n",
    "    N_array[i+1,:] = N     # Store fluxes to matrix as new row (columns will be componenents: E,Y,H,P,M,L,A,B,W)\n",
    "    v_vals[i+1] = v        # Store velocities\n",
    "    T_vals[i+1] = T        # Store temperatures\n",
    "\n",
    "\n",
    "    # Update Terms\n",
    "    N += (k1 + 2*k2 + 2*k3 + k4)/6                      # Composition RK4 iteration step\n",
    "    P[i+1] = P[i] + s*dPdz                              # Euler method iteration step\n",
    "    T += (k1T + 2*k2T + 2*k3T + k4T)/6                  # Update temperature also by RK4\n"
   ]
  },
  {
   "cell_type": "code",
   "execution_count": 10,
   "metadata": {},
   "outputs": [
    {
     "name": "stdout",
     "output_type": "stream",
     "text": [
      "The selectivity of ethylene is 38.96 %\n",
      "Conversion of ethane is  19.05839247164551 %\n",
      "Yield:  0.15192965932862892\n"
     ]
    }
   ],
   "source": [
    "# Selectivity and Conversion Calculation\n",
    "N_final = N_array[S-1,:]\n",
    "products = sum(N_final) - N_final[0]- N_final[8] - N_array[0,1]  # Subtract ethane, steam, and initial ethylene to find total products of rxn\n",
    "S_y = (N_final[1]- N_array[0,1])/products                        # Selectivity of ethylene will be total Y produced divided by products\n",
    "Conv = (1 - N_final[0]/N_array[0,0])*100.0\n",
    "print(\"The selectivity of ethylene is\",round(100*S_y,2),\"%\")\n",
    "print('Conversion of ethane is ',Conv,'%')\n",
    "\n",
    "#Calculate Yield\n",
    "Yield = N_final[1]/N_array[0,0]\n",
    "print('Yield: ',Yield)\n"
   ]
  },
  {
   "cell_type": "code",
   "execution_count": 11,
   "metadata": {},
   "outputs": [],
   "source": [
    "# Create Matrix of values for mole fractions to plot\n",
    "Y_t = np.zeros((S,9))\n",
    "for i in range(S):            \n",
    "  N_tot = sum(N_array[i,:])\n",
    "  Y_t[i,:] = N_array[i,:]/N_tot   \n",
    "\n",
    "for i in range(len(P)):\n",
    "  P[i] = P[i]/101325.0\n",
    "\n",
    "# Calculate dimensionless values  \n",
    "P_P0, T_T0, v_v0 = np.zeros(S), np.zeros(S), np.zeros(S)\n",
    "for i in range(S):\n",
    "  P_P0[i], T_T0[i], v_v0[i] = P[i]/P[0], T_vals[i]/T_vals[0], v_vals[i]/v_vals[0]\n"
   ]
  },
  {
   "cell_type": "code",
   "execution_count": 12,
   "metadata": {},
   "outputs": [
    {
     "data": {
      "image/png": "[encoded data removed]",
      "text/plain": [
       "<Figure size 432x288 with 1 Axes>"
      ]
     },
     "metadata": {},
     "output_type": "display_data"
    },
    {
     "data": {
      "image/png": "[encoded data removed]",
      "text/plain": [
       "<Figure size 432x288 with 1 Axes>"
      ]
     },
     "metadata": {},
     "output_type": "display_data"
    }
   ],
   "source": [
    "# Plotting \n",
    "disp = 'S$_y$ = '+ str(round(100*S_y,2)) + '%'\n",
    "plt.figure(1)\n",
    "plt.plot(z, Y_t[:,0], label=\"$\\mathregular{y_E}$\")\n",
    "plt.plot(z, Y_t[:,1], label=\"$\\mathregular{y_Y}$\")\n",
    "plt.xlim(0,length)\n",
    "plt.text(78,0.45,disp)\n",
    "plt.legend(loc=\"upper right\")\n",
    "plt.xlabel(\"z (m)\")\n",
    "plt.ylabel(\"Mole Fraction\")\n",
    "plt.title('Mole Fractions of Ethane and Ethylene vs. Axial Distance in PFR')\n",
    "plt.show()\n",
    "\n",
    "plt.plot(z, P_P0, label=\"P/P$_0$\")\n",
    "plt.plot(z, T_T0, label=\"T/T$_0$\")\n",
    "plt.plot(z, v_v0, label=\"v/v$_0$\")\n",
    "plt.xlim(0,length)\n",
    "plt.legend(loc=\"best\")\n",
    "plt.xlabel('z')\n",
    "plt.ylabel(\"Relative Value\")\n",
    "plt.title('Plot of Dimensionless Values of Pressure, Temperature, and Velocity')\n",
    "plt.show()"
   ]
  }
 ],
 "metadata": {
  "kernelspec": {
   "display_name": "Python 3",
   "language": "python",
   "name": "python3"
  },
  "language_info": {
   "codemirror_mode": {
    "name": "ipython",
    "version": 3
   },
   "file_extension": ".py",
   "mimetype": "text/x-python",
   "name": "python",
   "nbconvert_exporter": "python",
   "pygments_lexer": "ipython3",
   "version": "3.8.5"
  }
 },
 "nbformat": 4,
 "nbformat_minor": 4
}
